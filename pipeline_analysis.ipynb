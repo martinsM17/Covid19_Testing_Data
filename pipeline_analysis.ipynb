{
 "cells": [
  {
   "cell_type": "markdown",
   "metadata": {},
   "source": [
    "# 'Data Science 4 Covid19': analysis of testing dataset"
   ]
  },
  {
   "cell_type": "markdown",
   "metadata": {},
   "source": [
    "### UC Sistemas Inteligentes para a Bioinformática 20 | 21\n",
    "\n",
    "Group 4: \n",
    "> Carina Afonso PG40952 <br>\n",
    "> Laura Duro PG40959 <br>\n",
    "> Miguel Rocha PG40967 <br> \n",
    "> Miguel Martins PG40969 <br>"
   ]
  },
  {
   "cell_type": "markdown",
   "metadata": {},
   "source": [
    "## 1. Work contextualization and data description\n",
    "\n",
    "The Covid19 pandemic has been widely studied across several fields due to its large scale effects globally. More than 1.5 million people have died due to health complications caused by SARS-CoV-2 infection, since the final months of 2019. \n",
    "\n",
    "To figth this pandemic countries have been deploying different aproaches, namely testing policies. In this effort, we propose to analyse and explore the official testing data available for different countries. We aim to relate this information (tests wise) with other variables (demographic descriptors and pandemic related information) trough computacional methods such as machine and deep learning.\n",
    "\n",
    "The data chosen for this work was retrieved from 'Our World in Data': https://ourworldindata.org/coronavirus-testing [1]. It comprises of a time series, updated around twice a week, with mostly numeric data from official sources from 111 countries."
   ]
  },
  {
   "cell_type": "markdown",
   "metadata": {},
   "source": [
    "## 2. Data preprocessing"
   ]
  },
  {
   "cell_type": "markdown",
   "metadata": {},
   "source": [
    "### 2.1. Libraries required"
   ]
  },
  {
   "cell_type": "code",
   "execution_count": 1,
   "metadata": {},
   "outputs": [],
   "source": [
    "%matplotlib inline\n",
    "import numpy as np\n",
    "import pandas as pd\n",
    "import matplotlib.pyplot as plt\n",
    "import seaborn as sns\n",
    "import sklearn as skl"
   ]
  },
  {
   "cell_type": "markdown",
   "metadata": {},
   "source": [
    "### 2.2 Data import"
   ]
  },
  {
   "cell_type": "code",
   "execution_count": 2,
   "metadata": {},
   "outputs": [],
   "source": [
    "#import dataset - covid-19 testing data\n",
    "data_imported = pd.read_csv('owid-covid-data.csv')"
   ]
  },
  {
   "cell_type": "markdown",
   "metadata": {},
   "source": [
    "### 2.2 Inicial data screening"
   ]
  },
  {
   "cell_type": "code",
   "execution_count": 3,
   "metadata": {
    "scrolled": true
   },
   "outputs": [
    {
     "name": "stdout",
     "output_type": "stream",
     "text": [
      "Shape:\t (55703, 52) \n",
      "\n",
      "Columns: ['iso_code' 'continent' 'location' 'date' 'total_cases' 'new_cases'\n",
      " 'new_cases_smoothed' 'total_deaths' 'new_deaths' 'new_deaths_smoothed'\n",
      " 'total_cases_per_million' 'new_cases_per_million'\n",
      " 'new_cases_smoothed_per_million' 'total_deaths_per_million'\n",
      " 'new_deaths_per_million' 'new_deaths_smoothed_per_million'\n",
      " 'reproduction_rate' 'icu_patients' 'icu_patients_per_million'\n",
      " 'hosp_patients' 'hosp_patients_per_million' 'weekly_icu_admissions'\n",
      " 'weekly_icu_admissions_per_million' 'weekly_hosp_admissions'\n",
      " 'weekly_hosp_admissions_per_million' 'new_tests' 'total_tests'\n",
      " 'total_tests_per_thousand' 'new_tests_per_thousand' 'new_tests_smoothed'\n",
      " 'new_tests_smoothed_per_thousand' 'positive_rate' 'tests_per_case'\n",
      " 'tests_units' 'total_vaccinations' 'total_vaccinations_per_hundred'\n",
      " 'stringency_index' 'population' 'population_density' 'median_age'\n",
      " 'aged_65_older' 'aged_70_older' 'gdp_per_capita' 'extreme_poverty'\n",
      " 'cardiovasc_death_rate' 'diabetes_prevalence' 'female_smokers'\n",
      " 'male_smokers' 'handwashing_facilities' 'hospital_beds_per_thousand'\n",
      " 'life_expectancy' 'human_development_index'] \n",
      "\n"
     ]
    }
   ],
   "source": [
    "print('Shape:\\t', data_imported.shape, '\\n')\n",
    "print('Columns:', data_imported.columns.values, '\\n')"
   ]
  },
  {
   "cell_type": "markdown",
   "metadata": {},
   "source": [
    "Trough the analysis of the presented variables in the dataset, we decided to remove the ones that presented no interest to the proposed task (testing analysis)."
   ]
  },
  {
   "cell_type": "code",
   "execution_count": 4,
   "metadata": {},
   "outputs": [
    {
     "name": "stdout",
     "output_type": "stream",
     "text": [
      "Shape:\t (55703, 46) \n",
      "\n"
     ]
    }
   ],
   "source": [
    "#drop columns with no interest\n",
    "data_imported.columns\n",
    "data_imported = data_imported.drop(columns = ['cardiovasc_death_rate', \n",
    "                                              'diabetes_prevalence', \n",
    "                                              'female_smokers',\n",
    "                                              'male_smokers',\n",
    "                                              'total_vaccinations',\n",
    "                                              'total_vaccinations_per_hundred'])\n",
    "\n",
    "print('Shape:\\t', data_imported.shape, '\\n')"
   ]
  },
  {
   "cell_type": "code",
   "execution_count": 5,
   "metadata": {
    "scrolled": false
   },
   "outputs": [
    {
     "data": {
      "text/plain": [
       "iso_code                               object\n",
       "continent                              object\n",
       "location                               object\n",
       "date                                   object\n",
       "total_cases                           float64\n",
       "new_cases                             float64\n",
       "new_cases_smoothed                    float64\n",
       "total_deaths                          float64\n",
       "new_deaths                            float64\n",
       "new_deaths_smoothed                   float64\n",
       "total_cases_per_million               float64\n",
       "new_cases_per_million                 float64\n",
       "new_cases_smoothed_per_million        float64\n",
       "total_deaths_per_million              float64\n",
       "new_deaths_per_million                float64\n",
       "new_deaths_smoothed_per_million       float64\n",
       "reproduction_rate                     float64\n",
       "icu_patients                          float64\n",
       "icu_patients_per_million              float64\n",
       "hosp_patients                         float64\n",
       "hosp_patients_per_million             float64\n",
       "weekly_icu_admissions                 float64\n",
       "weekly_icu_admissions_per_million     float64\n",
       "weekly_hosp_admissions                float64\n",
       "weekly_hosp_admissions_per_million    float64\n",
       "new_tests                             float64\n",
       "total_tests                           float64\n",
       "total_tests_per_thousand              float64\n",
       "new_tests_per_thousand                float64\n",
       "new_tests_smoothed                    float64\n",
       "new_tests_smoothed_per_thousand       float64\n",
       "positive_rate                         float64\n",
       "tests_per_case                        float64\n",
       "tests_units                            object\n",
       "stringency_index                      float64\n",
       "population                            float64\n",
       "population_density                    float64\n",
       "median_age                            float64\n",
       "aged_65_older                         float64\n",
       "aged_70_older                         float64\n",
       "gdp_per_capita                        float64\n",
       "extreme_poverty                       float64\n",
       "handwashing_facilities                float64\n",
       "hospital_beds_per_thousand            float64\n",
       "life_expectancy                       float64\n",
       "human_development_index               float64\n",
       "dtype: object"
      ]
     },
     "execution_count": 5,
     "metadata": {},
     "output_type": "execute_result"
    }
   ],
   "source": [
    "#type of data per variable of interest\n",
    "data_imported.dtypes"
   ]
  },
  {
   "cell_type": "markdown",
   "metadata": {},
   "source": [
    "#### 2.2.1 Tests_units (variable)"
   ]
  },
  {
   "cell_type": "markdown",
   "metadata": {},
   "source": [
    "Different countries might have different methods of registering data and/or reported their data in different formats."
   ]
  },
  {
   "cell_type": "code",
   "execution_count": 6,
   "metadata": {
    "scrolled": false
   },
   "outputs": [
    {
     "name": "stdout",
     "output_type": "stream",
     "text": [
      "Number of entries per test type:\n",
      "tests_units\n",
      "people tested       6415\n",
      "samples tested      4929\n",
      "tests performed    18146\n",
      "units unclear        626\n",
      "dtype: int64 \n",
      "\n",
      "\n",
      "Entries distribution per countries:\n",
      "\n",
      "iso_code         ARE  ARG  AUS  AUT  BEL  BGD  BGR  BHR  BLR  BOL  ...  TUR  \\\n",
      "tests_units                                                        ...        \n",
      "people tested      0  320    0    0    0    0    0    0    0    0  ...    0   \n",
      "samples tested     0    0    0    0    0    0    0    0    0    0  ...    0   \n",
      "tests performed  329    0  276  265  296  295  256    0  266  283  ...  271   \n",
      "units unclear      0    0    0    0    0    0    0  293    0    0  ...    0   \n",
      "\n",
      "iso_code         TWN  UGA  UKR  URY  USA  VNM  ZAF  ZMB  ZWE  \n",
      "tests_units                                                   \n",
      "people tested    342    0    0    0    0    0  320    0    0  \n",
      "samples tested     0  189    0    0    0  157    0    0    0  \n",
      "tests performed    0    0  258  270  294    0    0  279  230  \n",
      "units unclear      0    0    0    0    0    0    0    0    0  \n",
      "\n",
      "[4 rows x 113 columns] \n",
      "\n",
      "\n",
      "Number of countries per test type:\n",
      "tests_units\n",
      "people tested      22.0\n",
      "samples tested     19.0\n",
      "tests performed    69.0\n",
      "units unclear       3.0\n",
      "dtype: float64 \n",
      "\n",
      "Total of countries: 113.0 \n",
      "\n",
      "\n",
      "Missing values\n",
      "Null: 25587 \tNaN: 25587 \n",
      "\n"
     ]
    }
   ],
   "source": [
    "#see test units\n",
    "print('Number of entries per test type:')\n",
    "print(data_imported.groupby(['tests_units']).size(), '\\n\\n')\n",
    "\n",
    "#frequency table per countries\n",
    "freq_table = pd.crosstab(index = data_imported['tests_units'], columns = data_imported['iso_code'])\n",
    "print('Entries distribution per countries:\\n')\n",
    "print(freq_table, '\\n\\n')\n",
    "print('Number of countries per test type:')\n",
    "print((freq_table/freq_table).sum(axis = 1), '\\n')\n",
    "print('Total of countries:', ((freq_table/freq_table).sum(axis = 1)).sum(), '\\n\\n')\n",
    "\n",
    "#check for missing values\n",
    "null = data_imported.iloc[:, 33].isnull().sum()\n",
    "na = data_imported.iloc[:, 33].isna().sum()\n",
    "print('Missing values')\n",
    "print('Null:', null, '\\tNaN:', na, '\\n')"
   ]
  },
  {
   "cell_type": "markdown",
   "metadata": {},
   "source": [
    "After seeing how countries are distributed based on the tests_units variable we decided to use only data from dataset entries which reported the number of tests and not the number of people tested. We also decided to discard dataset entries without defined units.\n",
    "\n",
    "We also checked for missing values (wich in this case correspond to null values).\n",
    "\n",
    "Since the data was also registered at an Internacional and Worldlide level in this dataset, we decided to discard these entries as they compreend an compilation of data from several crountries."
   ]
  },
  {
   "cell_type": "code",
   "execution_count": 7,
   "metadata": {
    "scrolled": true
   },
   "outputs": [
    {
     "name": "stdout",
     "output_type": "stream",
     "text": [
      "Missing values\n",
      "NaN: 0 \n",
      "\n",
      "\n",
      "Number of countries per test type:\n",
      "tests_units\n",
      "samples tested     19.0\n",
      "tests performed    69.0\n",
      "dtype: float64 \n",
      "\n",
      "Total of countries: 88.0 \n",
      "\n",
      "\n"
     ]
    }
   ],
   "source": [
    "#drop Nan\n",
    "data_imported = data_imported.dropna(subset = ['tests_units'])\n",
    "\n",
    "print('Missing values')\n",
    "na = data_imported.iloc[:, 33].isna().sum()\n",
    "print('NaN:', na, '\\n\\n')\n",
    "\n",
    "\n",
    "#drop countries with odd units\n",
    "countries_discard = pd.concat(objs = (freq_table.loc['units unclear'][freq_table.loc['units unclear'][:] != 0], \n",
    "                                      freq_table.loc['people tested'][freq_table.loc['people tested'][:] != 0]))\n",
    "countries_discard.keys()\n",
    "\n",
    "#discard internacional data\n",
    "index_discard = np.concatenate([data_imported['location'][data_imported['location'] == 'International'].keys().values,\n",
    "                                data_imported['location'][data_imported['location'] == 'World'].keys().values])\n",
    "#discard countries without standardized testing\n",
    "for code in countries_discard.keys().values:\n",
    "    index_discard = np.concatenate([index_discard,\n",
    "                                    data_imported['iso_code'][data_imported['iso_code'] == code].keys().values])\n",
    "\n",
    "screened_data = data_imported.drop(index = index_discard)\n",
    "    \n",
    "#frequency table per countries\n",
    "freq_table = pd.crosstab(index = screened_data['tests_units'], columns = screened_data['iso_code'])\n",
    "print('Number of countries per test type:')\n",
    "print((freq_table/freq_table).sum(axis = 1), '\\n')\n",
    "print('Total of countries:', ((freq_table/freq_table).sum(axis = 1)).sum(), '\\n\\n')"
   ]
  },
  {
   "cell_type": "markdown",
   "metadata": {},
   "source": [
    "In total, 88 countries reported testing data in a similar way and further analysis will be conducted for these countries (we will be considering the number of tests performed / samples tested, not the number of people tested)."
   ]
  },
  {
   "cell_type": "markdown",
   "metadata": {},
   "source": [
    "#### 2.2.2 Other testing variables"
   ]
  },
  {
   "cell_type": "code",
   "execution_count": 8,
   "metadata": {
    "scrolled": false
   },
   "outputs": [
    {
     "name": "stdout",
     "output_type": "stream",
     "text": [
      "Null:\n",
      "total_cases                             358\n",
      "new_cases                               359\n",
      "new_cases_smoothed                      506\n",
      "total_deaths                           1664\n",
      "new_deaths                             1664\n",
      "new_deaths_smoothed                     506\n",
      "total_cases_per_million                 358\n",
      "new_cases_per_million                   359\n",
      "new_cases_smoothed_per_million          506\n",
      "total_deaths_per_million               1664\n",
      "new_deaths_per_million                 1664\n",
      "new_deaths_smoothed_per_million         506\n",
      "reproduction_rate                      3234\n",
      "icu_patients                          18287\n",
      "icu_patients_per_million              18287\n",
      "hosp_patients                         18130\n",
      "hosp_patients_per_million             18130\n",
      "weekly_icu_admissions                 22684\n",
      "weekly_icu_admissions_per_million     22684\n",
      "weekly_hosp_admissions                22446\n",
      "weekly_hosp_admissions_per_million    22446\n",
      "new_tests                              3472\n",
      "total_tests                            3447\n",
      "total_tests_per_thousand               3447\n",
      "new_tests_per_thousand                 3472\n",
      "new_tests_smoothed                      908\n",
      "new_tests_smoothed_per_thousand         908\n",
      "positive_rate                          2023\n",
      "dtype: int64 \n",
      "\n",
      "Total:\t 194119 \n",
      "\n",
      "\n",
      "NaN:\n",
      "total_cases                             358\n",
      "new_cases                               359\n",
      "new_cases_smoothed                      506\n",
      "total_deaths                           1664\n",
      "new_deaths                             1664\n",
      "new_deaths_smoothed                     506\n",
      "total_cases_per_million                 358\n",
      "new_cases_per_million                   359\n",
      "new_cases_smoothed_per_million          506\n",
      "total_deaths_per_million               1664\n",
      "new_deaths_per_million                 1664\n",
      "new_deaths_smoothed_per_million         506\n",
      "reproduction_rate                      3234\n",
      "icu_patients                          18287\n",
      "icu_patients_per_million              18287\n",
      "hosp_patients                         18130\n",
      "hosp_patients_per_million             18130\n",
      "weekly_icu_admissions                 22684\n",
      "weekly_icu_admissions_per_million     22684\n",
      "weekly_hosp_admissions                22446\n",
      "weekly_hosp_admissions_per_million    22446\n",
      "new_tests                              3472\n",
      "total_tests                            3447\n",
      "total_tests_per_thousand               3447\n",
      "new_tests_per_thousand                 3472\n",
      "new_tests_smoothed                      908\n",
      "new_tests_smoothed_per_thousand         908\n",
      "positive_rate                          2023\n",
      "dtype: int64 \n",
      "\n",
      "Total:\t 194119 \n",
      "\n",
      "\n",
      "NaN:\n",
      "total_cases                           0\n",
      "new_cases                             0\n",
      "new_cases_smoothed                    0\n",
      "total_deaths                          0\n",
      "new_deaths                            0\n",
      "new_deaths_smoothed                   0\n",
      "total_cases_per_million               0\n",
      "new_cases_per_million                 0\n",
      "new_cases_smoothed_per_million        0\n",
      "total_deaths_per_million              0\n",
      "new_deaths_per_million                0\n",
      "new_deaths_smoothed_per_million       0\n",
      "reproduction_rate                     0\n",
      "icu_patients                          0\n",
      "icu_patients_per_million              0\n",
      "hosp_patients                         0\n",
      "hosp_patients_per_million             0\n",
      "weekly_icu_admissions                 0\n",
      "weekly_icu_admissions_per_million     0\n",
      "weekly_hosp_admissions                0\n",
      "weekly_hosp_admissions_per_million    0\n",
      "new_tests                             0\n",
      "total_tests                           0\n",
      "total_tests_per_thousand              0\n",
      "new_tests_per_thousand                0\n",
      "new_tests_smoothed                    0\n",
      "new_tests_smoothed_per_thousand       0\n",
      "positive_rate                         0\n",
      "dtype: int64 \n",
      "\n",
      "Total:\t 0 \n",
      "\n",
      "\n"
     ]
    }
   ],
   "source": [
    "#NaN \n",
    "#screened_data['total_cases']\n",
    "\n",
    "print('Null:')\n",
    "null = screened_data.iloc[:, 4:32].isnull().sum()\n",
    "print(null, '\\n')\n",
    "print('Total:\\t', null.sum(), '\\n\\n')\n",
    "print('NaN:')\n",
    "na = screened_data.iloc[:, 4:32].isna().sum()\n",
    "print(na, '\\n')\n",
    "print('Total:\\t', na.sum(), '\\n\\n')\n",
    "\n",
    "screened_data.iloc[:, 4:32] = screened_data.iloc[:, 4:32].fillna(0)\n",
    "\n",
    "print('NaN:')\n",
    "na = screened_data.iloc[:, 4:32].isna().sum()\n",
    "print(na, '\\n')\n",
    "print('Total:\\t', na.sum(), '\\n\\n')"
   ]
  },
  {
   "cell_type": "markdown",
   "metadata": {},
   "source": [
    "Substitution of missing values of these pandemic related variables with 0 (when reported as a missing value, in these variables, it means there was no information on that entry regarding that variable)."
   ]
  },
  {
   "cell_type": "code",
   "execution_count": 9,
   "metadata": {},
   "outputs": [
    {
     "data": {
      "text/plain": [
       "tests_per_case                 2396\n",
       "tests_units                       0\n",
       "stringency_index                772\n",
       "population                        0\n",
       "population_density              117\n",
       "median_age                        0\n",
       "aged_65_older                     0\n",
       "aged_70_older                     0\n",
       "gdp_per_capita                  275\n",
       "extreme_poverty                5246\n",
       "handwashing_facilities        14072\n",
       "hospital_beds_per_thousand     2431\n",
       "life_expectancy                   0\n",
       "human_development_index           0\n",
       "dtype: int64"
      ]
     },
     "execution_count": 9,
     "metadata": {},
     "output_type": "execute_result"
    }
   ],
   "source": [
    "screened_data.iloc[:, 32:].isna().sum()"
   ]
  },
  {
   "cell_type": "code",
   "execution_count": 10,
   "metadata": {
    "scrolled": true
   },
   "outputs": [
    {
     "name": "stdout",
     "output_type": "stream",
     "text": [
      "(23075, 46)\n",
      "(14223, 45)\n"
     ]
    }
   ],
   "source": [
    "print(screened_data.shape)\n",
    "screened_data = screened_data.drop(columns = ['handwashing_facilities'])\n",
    "screened_data = screened_data.dropna(axis = 0)\n",
    "print(screened_data.shape)"
   ]
  },
  {
   "cell_type": "markdown",
   "metadata": {},
   "source": [
    "The drop of the column 'handwashing_facilities' was due to lack of information regarding a considerable amount of countries (over 14 000 entries).\n",
    "To deal with the other missing values, intead of dropping the columns in question we decided to drop the entries. In theses cases, we could not replace missing values with 0 because these variables do not represent counts but demographic indicators with their own scale and values associated."
   ]
  },
  {
   "cell_type": "code",
   "execution_count": 11,
   "metadata": {},
   "outputs": [
    {
     "data": {
      "text/plain": [
       "57"
      ]
     },
     "execution_count": 11,
     "metadata": {},
     "output_type": "execute_result"
    }
   ],
   "source": [
    " screened_data['iso_code'].unique().size"
   ]
  },
  {
   "cell_type": "markdown",
   "metadata": {},
   "source": [
    "Further filtering of the data reduced the number of countries to a total of 57."
   ]
  },
  {
   "cell_type": "markdown",
   "metadata": {},
   "source": [
    "### 2.3 Statistical Analysis"
   ]
  },
  {
   "cell_type": "code",
   "execution_count": 12,
   "metadata": {},
   "outputs": [
    {
     "data": {
      "text/html": [
       "<div>\n",
       "<style scoped>\n",
       "    .dataframe tbody tr th:only-of-type {\n",
       "        vertical-align: middle;\n",
       "    }\n",
       "\n",
       "    .dataframe tbody tr th {\n",
       "        vertical-align: top;\n",
       "    }\n",
       "\n",
       "    .dataframe thead th {\n",
       "        text-align: right;\n",
       "    }\n",
       "</style>\n",
       "<table border=\"1\" class=\"dataframe\">\n",
       "  <thead>\n",
       "    <tr style=\"text-align: right;\">\n",
       "      <th></th>\n",
       "      <th>total_cases</th>\n",
       "      <th>new_cases</th>\n",
       "      <th>new_cases_smoothed</th>\n",
       "      <th>total_deaths</th>\n",
       "      <th>new_deaths</th>\n",
       "      <th>new_deaths_smoothed</th>\n",
       "      <th>total_cases_per_million</th>\n",
       "      <th>new_cases_per_million</th>\n",
       "      <th>new_cases_smoothed_per_million</th>\n",
       "      <th>total_deaths_per_million</th>\n",
       "      <th>...</th>\n",
       "      <th>population</th>\n",
       "      <th>population_density</th>\n",
       "      <th>median_age</th>\n",
       "      <th>aged_65_older</th>\n",
       "      <th>aged_70_older</th>\n",
       "      <th>gdp_per_capita</th>\n",
       "      <th>extreme_poverty</th>\n",
       "      <th>hospital_beds_per_thousand</th>\n",
       "      <th>life_expectancy</th>\n",
       "      <th>human_development_index</th>\n",
       "    </tr>\n",
       "  </thead>\n",
       "  <tbody>\n",
       "    <tr>\n",
       "      <th>count</th>\n",
       "      <td>1.422300e+04</td>\n",
       "      <td>14223.000000</td>\n",
       "      <td>14223.000000</td>\n",
       "      <td>14223.000000</td>\n",
       "      <td>14223.000000</td>\n",
       "      <td>14223.000000</td>\n",
       "      <td>14223.000000</td>\n",
       "      <td>14223.000000</td>\n",
       "      <td>14223.000000</td>\n",
       "      <td>14223.000000</td>\n",
       "      <td>...</td>\n",
       "      <td>1.422300e+04</td>\n",
       "      <td>14223.000000</td>\n",
       "      <td>14223.000000</td>\n",
       "      <td>14223.000000</td>\n",
       "      <td>14223.000000</td>\n",
       "      <td>14223.000000</td>\n",
       "      <td>14223.000000</td>\n",
       "      <td>14223.000000</td>\n",
       "      <td>14223.000000</td>\n",
       "      <td>14223.000000</td>\n",
       "    </tr>\n",
       "    <tr>\n",
       "      <th>mean</th>\n",
       "      <td>2.027076e+05</td>\n",
       "      <td>2368.141320</td>\n",
       "      <td>2317.595397</td>\n",
       "      <td>5755.277227</td>\n",
       "      <td>46.582578</td>\n",
       "      <td>46.056820</td>\n",
       "      <td>4986.785806</td>\n",
       "      <td>66.954789</td>\n",
       "      <td>65.034587</td>\n",
       "      <td>142.379943</td>\n",
       "      <td>...</td>\n",
       "      <td>6.117230e+07</td>\n",
       "      <td>172.071099</td>\n",
       "      <td>33.599114</td>\n",
       "      <td>11.492790</td>\n",
       "      <td>7.511982</td>\n",
       "      <td>22035.417972</td>\n",
       "      <td>8.841468</td>\n",
       "      <td>3.120093</td>\n",
       "      <td>75.131415</td>\n",
       "      <td>0.759530</td>\n",
       "    </tr>\n",
       "    <tr>\n",
       "      <th>std</th>\n",
       "      <td>8.137200e+05</td>\n",
       "      <td>10916.039656</td>\n",
       "      <td>8775.866896</td>\n",
       "      <td>16522.687567</td>\n",
       "      <td>140.750421</td>\n",
       "      <td>135.566421</td>\n",
       "      <td>8074.031390</td>\n",
       "      <td>170.521598</td>\n",
       "      <td>133.524539</td>\n",
       "      <td>228.320761</td>\n",
       "      <td>...</td>\n",
       "      <td>1.915158e+08</td>\n",
       "      <td>263.143701</td>\n",
       "      <td>9.158794</td>\n",
       "      <td>6.542922</td>\n",
       "      <td>4.617631</td>\n",
       "      <td>18483.770730</td>\n",
       "      <td>17.515572</td>\n",
       "      <td>2.261857</td>\n",
       "      <td>6.375523</td>\n",
       "      <td>0.138216</td>\n",
       "    </tr>\n",
       "    <tr>\n",
       "      <th>min</th>\n",
       "      <td>1.000000e+00</td>\n",
       "      <td>-10034.000000</td>\n",
       "      <td>0.143000</td>\n",
       "      <td>0.000000</td>\n",
       "      <td>-1918.000000</td>\n",
       "      <td>-232.143000</td>\n",
       "      <td>0.018000</td>\n",
       "      <td>-214.609000</td>\n",
       "      <td>0.001000</td>\n",
       "      <td>0.000000</td>\n",
       "      <td>...</td>\n",
       "      <td>3.412500e+05</td>\n",
       "      <td>3.202000</td>\n",
       "      <td>16.400000</td>\n",
       "      <td>2.168000</td>\n",
       "      <td>1.308000</td>\n",
       "      <td>1095.042000</td>\n",
       "      <td>0.100000</td>\n",
       "      <td>0.200000</td>\n",
       "      <td>61.040000</td>\n",
       "      <td>0.463000</td>\n",
       "    </tr>\n",
       "    <tr>\n",
       "      <th>25%</th>\n",
       "      <td>2.443000e+03</td>\n",
       "      <td>17.000000</td>\n",
       "      <td>22.000000</td>\n",
       "      <td>46.000000</td>\n",
       "      <td>0.000000</td>\n",
       "      <td>0.286000</td>\n",
       "      <td>279.133000</td>\n",
       "      <td>2.035000</td>\n",
       "      <td>2.554000</td>\n",
       "      <td>4.645500</td>\n",
       "      <td>...</td>\n",
       "      <td>6.948445e+06</td>\n",
       "      <td>43.951000</td>\n",
       "      <td>26.500000</td>\n",
       "      <td>5.732000</td>\n",
       "      <td>3.212000</td>\n",
       "      <td>6426.674000</td>\n",
       "      <td>0.200000</td>\n",
       "      <td>1.300000</td>\n",
       "      <td>70.780000</td>\n",
       "      <td>0.640000</td>\n",
       "    </tr>\n",
       "    <tr>\n",
       "      <th>50%</th>\n",
       "      <td>1.746600e+04</td>\n",
       "      <td>212.000000</td>\n",
       "      <td>224.571000</td>\n",
       "      <td>364.000000</td>\n",
       "      <td>3.000000</td>\n",
       "      <td>3.571000</td>\n",
       "      <td>1503.831000</td>\n",
       "      <td>13.847000</td>\n",
       "      <td>14.797000</td>\n",
       "      <td>30.856000</td>\n",
       "      <td>...</td>\n",
       "      <td>1.838396e+07</td>\n",
       "      <td>93.105000</td>\n",
       "      <td>34.100000</td>\n",
       "      <td>11.087000</td>\n",
       "      <td>6.890000</td>\n",
       "      <td>20551.409000</td>\n",
       "      <td>1.300000</td>\n",
       "      <td>2.540000</td>\n",
       "      <td>76.680000</td>\n",
       "      <td>0.798000</td>\n",
       "    </tr>\n",
       "    <tr>\n",
       "      <th>75%</th>\n",
       "      <td>1.260135e+05</td>\n",
       "      <td>1253.500000</td>\n",
       "      <td>1309.000000</td>\n",
       "      <td>2926.000000</td>\n",
       "      <td>23.000000</td>\n",
       "      <td>23.286000</td>\n",
       "      <td>5899.138000</td>\n",
       "      <td>61.307500</td>\n",
       "      <td>63.101000</td>\n",
       "      <td>164.511500</td>\n",
       "      <td>...</td>\n",
       "      <td>5.088288e+07</td>\n",
       "      <td>205.859000</td>\n",
       "      <td>42.300000</td>\n",
       "      <td>18.571000</td>\n",
       "      <td>11.976000</td>\n",
       "      <td>30155.152000</td>\n",
       "      <td>6.400000</td>\n",
       "      <td>4.485000</td>\n",
       "      <td>81.320000</td>\n",
       "      <td>0.871000</td>\n",
       "    </tr>\n",
       "    <tr>\n",
       "      <th>max</th>\n",
       "      <td>1.614322e+07</td>\n",
       "      <td>823225.000000</td>\n",
       "      <td>213297.143000</td>\n",
       "      <td>297904.000000</td>\n",
       "      <td>2354.000000</td>\n",
       "      <td>2383.143000</td>\n",
       "      <td>65106.330000</td>\n",
       "      <td>9760.898000</td>\n",
       "      <td>1719.769000</td>\n",
       "      <td>1568.473000</td>\n",
       "      <td>...</td>\n",
       "      <td>1.380004e+09</td>\n",
       "      <td>1454.037000</td>\n",
       "      <td>47.900000</td>\n",
       "      <td>23.021000</td>\n",
       "      <td>16.240000</td>\n",
       "      <td>94277.965000</td>\n",
       "      <td>77.600000</td>\n",
       "      <td>8.800000</td>\n",
       "      <td>83.560000</td>\n",
       "      <td>0.939000</td>\n",
       "    </tr>\n",
       "  </tbody>\n",
       "</table>\n",
       "<p>8 rows × 40 columns</p>\n",
       "</div>"
      ],
      "text/plain": [
       "        total_cases      new_cases  new_cases_smoothed   total_deaths  \\\n",
       "count  1.422300e+04   14223.000000        14223.000000   14223.000000   \n",
       "mean   2.027076e+05    2368.141320         2317.595397    5755.277227   \n",
       "std    8.137200e+05   10916.039656         8775.866896   16522.687567   \n",
       "min    1.000000e+00  -10034.000000            0.143000       0.000000   \n",
       "25%    2.443000e+03      17.000000           22.000000      46.000000   \n",
       "50%    1.746600e+04     212.000000          224.571000     364.000000   \n",
       "75%    1.260135e+05    1253.500000         1309.000000    2926.000000   \n",
       "max    1.614322e+07  823225.000000       213297.143000  297904.000000   \n",
       "\n",
       "         new_deaths  new_deaths_smoothed  total_cases_per_million  \\\n",
       "count  14223.000000         14223.000000             14223.000000   \n",
       "mean      46.582578            46.056820              4986.785806   \n",
       "std      140.750421           135.566421              8074.031390   \n",
       "min    -1918.000000          -232.143000                 0.018000   \n",
       "25%        0.000000             0.286000               279.133000   \n",
       "50%        3.000000             3.571000              1503.831000   \n",
       "75%       23.000000            23.286000              5899.138000   \n",
       "max     2354.000000          2383.143000             65106.330000   \n",
       "\n",
       "       new_cases_per_million  new_cases_smoothed_per_million  \\\n",
       "count           14223.000000                    14223.000000   \n",
       "mean               66.954789                       65.034587   \n",
       "std               170.521598                      133.524539   \n",
       "min              -214.609000                        0.001000   \n",
       "25%                 2.035000                        2.554000   \n",
       "50%                13.847000                       14.797000   \n",
       "75%                61.307500                       63.101000   \n",
       "max              9760.898000                     1719.769000   \n",
       "\n",
       "       total_deaths_per_million  ...    population  population_density  \\\n",
       "count              14223.000000  ...  1.422300e+04        14223.000000   \n",
       "mean                 142.379943  ...  6.117230e+07          172.071099   \n",
       "std                  228.320761  ...  1.915158e+08          263.143701   \n",
       "min                    0.000000  ...  3.412500e+05            3.202000   \n",
       "25%                    4.645500  ...  6.948445e+06           43.951000   \n",
       "50%                   30.856000  ...  1.838396e+07           93.105000   \n",
       "75%                  164.511500  ...  5.088288e+07          205.859000   \n",
       "max                 1568.473000  ...  1.380004e+09         1454.037000   \n",
       "\n",
       "         median_age  aged_65_older  aged_70_older  gdp_per_capita  \\\n",
       "count  14223.000000   14223.000000   14223.000000    14223.000000   \n",
       "mean      33.599114      11.492790       7.511982    22035.417972   \n",
       "std        9.158794       6.542922       4.617631    18483.770730   \n",
       "min       16.400000       2.168000       1.308000     1095.042000   \n",
       "25%       26.500000       5.732000       3.212000     6426.674000   \n",
       "50%       34.100000      11.087000       6.890000    20551.409000   \n",
       "75%       42.300000      18.571000      11.976000    30155.152000   \n",
       "max       47.900000      23.021000      16.240000    94277.965000   \n",
       "\n",
       "       extreme_poverty  hospital_beds_per_thousand  life_expectancy  \\\n",
       "count     14223.000000                14223.000000     14223.000000   \n",
       "mean          8.841468                    3.120093        75.131415   \n",
       "std          17.515572                    2.261857         6.375523   \n",
       "min           0.100000                    0.200000        61.040000   \n",
       "25%           0.200000                    1.300000        70.780000   \n",
       "50%           1.300000                    2.540000        76.680000   \n",
       "75%           6.400000                    4.485000        81.320000   \n",
       "max          77.600000                    8.800000        83.560000   \n",
       "\n",
       "       human_development_index  \n",
       "count             14223.000000  \n",
       "mean                  0.759530  \n",
       "std                   0.138216  \n",
       "min                   0.463000  \n",
       "25%                   0.640000  \n",
       "50%                   0.798000  \n",
       "75%                   0.871000  \n",
       "max                   0.939000  \n",
       "\n",
       "[8 rows x 40 columns]"
      ]
     },
     "execution_count": 12,
     "metadata": {},
     "output_type": "execute_result"
    }
   ],
   "source": [
    "screened_data.describe()"
   ]
  },
  {
   "cell_type": "markdown",
   "metadata": {},
   "source": [
    "Above there are descriptive analysis made for each of the selected variables."
   ]
  },
  {
   "cell_type": "code",
   "execution_count": 13,
   "metadata": {},
   "outputs": [
    {
     "data": {
      "text/plain": [
       "Text(0, 0.5, 'Share of the Population (%)')"
      ]
     },
     "execution_count": 13,
     "metadata": {},
     "output_type": "execute_result"
    },
    {
     "data": {
      "image/png": "[encoded data removed]",
      "text/plain": [
       "<Figure size 432x288 with 1 Axes>"
      ]
     },
     "metadata": {
      "needs_background": "light"
     },
     "output_type": "display_data"
    }
   ],
   "source": [
    "fig, axes = plt.subplots(1, 1, sharex = True)\n",
    "sns.boxplot(data = screened_data[['iso_code', 'aged_65_older','aged_70_older']].drop_duplicates(subset=['iso_code']))\n",
    "axes.set_ylabel('Share of the Population (%)')"
   ]
  },
  {
   "cell_type": "markdown",
   "metadata": {},
   "source": [
    "In the figure above we can see the percentage of the population over 65 years old (yo) and over 70 yo. In some countries, the percentage reaches above 10% of the population which could be of importance considering that people in this age are considered part of the groups at risk."
   ]
  },
  {
   "cell_type": "code",
   "execution_count": 14,
   "metadata": {},
   "outputs": [
    {
     "data": {
      "text/plain": [
       "Text(0, 0.5, 'Age (years)')"
      ]
     },
     "execution_count": 14,
     "metadata": {},
     "output_type": "execute_result"
    },
    {
     "data": {
      "image/png": "[encoded data removed]",
      "text/plain": [
       "<Figure size 432x288 with 1 Axes>"
      ]
     },
     "metadata": {
      "needs_background": "light"
     },
     "output_type": "display_data"
    }
   ],
   "source": [
    "fig, axes = plt.subplots(1, 1, sharex = True)\n",
    "sns.boxplot(data = screened_data[['iso_code', 'life_expectancy', 'median_age']].drop_duplicates(subset=['iso_code']))\n",
    "axes.set_ylabel('Age (years)')"
   ]
  },
  {
   "cell_type": "markdown",
   "metadata": {},
   "source": [
    "Regarding 'life_expectancy', as seen in the figure above, there's an interval between the ages of 70 and 80 which comprises around 50% of the countries' life expectancy values.\n",
    "The median age for the 57 countries considered shows that possibly all types of countries (under developped, in development and developed) are present - median age is one of the development indicators. [2-3]"
   ]
  },
  {
   "cell_type": "code",
   "execution_count": 15,
   "metadata": {},
   "outputs": [
    {
     "data": {
      "text/plain": [
       "Text(0, 0.5, 'HDI')"
      ]
     },
     "execution_count": 15,
     "metadata": {},
     "output_type": "execute_result"
    },
    {
     "data": {
      "image/png": "[encoded data removed]",
      "text/plain": [
       "<Figure size 432x288 with 1 Axes>"
      ]
     },
     "metadata": {
      "needs_background": "light"
     },
     "output_type": "display_data"
    }
   ],
   "source": [
    "fig, axes = plt.subplots(1, 1, sharex = True)\n",
    "sns.boxplot(data = screened_data[['iso_code', 'human_development_index']].drop_duplicates(subset=['iso_code']))\n",
    "axes.set_ylabel('HDI')"
   ]
  },
  {
   "cell_type": "markdown",
   "metadata": {},
   "source": [
    "According to the 'Human Development Report 2020: Reader's Guide', by United Nations Development Programme, 'HDI classifications are based on HDI fixed cutoff points, which are derived from the quartiles of dis- tributions of the component indicators. The cutoff-points are HDI of less than 0.550 for low human development, 0.550–0.699 for medium human development, 0.700–0.799 for high human development and 0.800 or greater for very high human development.'\n",
    "\n",
    "In the figure above we can perceive that about 25% of the countries considered low to medium human development."
   ]
  },
  {
   "cell_type": "code",
   "execution_count": 16,
   "metadata": {},
   "outputs": [
    {
     "data": {
      "text/plain": [
       "Text(0, 0.5, 'Positive rate')"
      ]
     },
     "execution_count": 16,
     "metadata": {},
     "output_type": "execute_result"
    },
    {
     "data": {
      "image/png": "[encoded data removed]",
      "text/plain": [
       "<Figure size 432x288 with 1 Axes>"
      ]
     },
     "metadata": {
      "needs_background": "light"
     },
     "output_type": "display_data"
    }
   ],
   "source": [
    "fig, axes = plt.subplots(1, 1, sharex = True)\n",
    "sns.boxplot(data = screened_data[['iso_code','positive_rate']].drop_duplicates(subset=['iso_code']))\n",
    "axes.set_ylabel('Positive rate')"
   ]
  },
  {
   "cell_type": "markdown",
   "metadata": {},
   "source": [
    "The positive rates (ratio between positive tests and tests performed), for 50% of the countries selected, is below 5%. There are some countries who present an alarming value for positve rates."
   ]
  },
  {
   "cell_type": "markdown",
   "metadata": {},
   "source": [
    "#### 2.3.1 Time series dataset preparation"
   ]
  },
  {
   "cell_type": "code",
   "execution_count": 17,
   "metadata": {},
   "outputs": [
    {
     "name": "stdout",
     "output_type": "stream",
     "text": [
      "Type of data for date information:\n",
      "object\n",
      "\n",
      "Type of data for date information after conversion:\n",
      "datetime64[ns]\n",
      "\n",
      "Shape of dataset:\n",
      "(14223, 45)\n",
      "\n",
      "Shape of dataset after indexing:\n",
      "(14223, 44)\n"
     ]
    }
   ],
   "source": [
    "print('Type of data for date information:')\n",
    "print(screened_data['date'].dtypes)\n",
    "screened_data['date'] = pd.to_datetime(screened_data['date']) \n",
    "print('\\nType of data for date information after conversion:')\n",
    "print(screened_data['date'].dtypes)\n",
    "print('\\nShape of dataset:')\n",
    "print(screened_data.shape)\n",
    "screened_data = screened_data.set_index('date')\n",
    "print('\\nShape of dataset after indexing:')\n",
    "print(screened_data.shape)\n"
   ]
  },
  {
   "cell_type": "code",
   "execution_count": 18,
   "metadata": {},
   "outputs": [
    {
     "data": {
      "text/plain": [
       "Index(['iso_code', 'continent', 'location', 'total_cases', 'new_cases',\n",
       "       'new_cases_smoothed', 'total_deaths', 'new_deaths',\n",
       "       'new_deaths_smoothed', 'total_cases_per_million',\n",
       "       'new_cases_per_million', 'new_cases_smoothed_per_million',\n",
       "       'total_deaths_per_million', 'new_deaths_per_million',\n",
       "       'new_deaths_smoothed_per_million', 'reproduction_rate', 'icu_patients',\n",
       "       'icu_patients_per_million', 'hosp_patients',\n",
       "       'hosp_patients_per_million', 'weekly_icu_admissions',\n",
       "       'weekly_icu_admissions_per_million', 'weekly_hosp_admissions',\n",
       "       'weekly_hosp_admissions_per_million', 'new_tests', 'total_tests',\n",
       "       'total_tests_per_thousand', 'new_tests_per_thousand',\n",
       "       'new_tests_smoothed', 'new_tests_smoothed_per_thousand',\n",
       "       'positive_rate', 'tests_per_case', 'tests_units', 'stringency_index',\n",
       "       'population', 'population_density', 'median_age', 'aged_65_older',\n",
       "       'aged_70_older', 'gdp_per_capita', 'extreme_poverty',\n",
       "       'hospital_beds_per_thousand', 'life_expectancy',\n",
       "       'human_development_index'],\n",
       "      dtype='object')"
      ]
     },
     "execution_count": 18,
     "metadata": {},
     "output_type": "execute_result"
    }
   ],
   "source": [
    "screened_data.columns"
   ]
  },
  {
   "cell_type": "code",
   "execution_count": 19,
   "metadata": {},
   "outputs": [],
   "source": [
    "pca_data = screened_data[['new_cases_smoothed', 'new_deaths_smoothed', 'total_cases_per_million',\n",
    "                          'new_cases_smoothed_per_million', 'new_deaths_smoothed_per_million', 'reproduction_rate', \n",
    "                          'icu_patients_per_million', 'hosp_patients_per_million', 'weekly_icu_admissions_per_million',\n",
    "                          'weekly_hosp_admissions_per_million', 'total_tests_per_thousand', \n",
    "                          'positive_rate', 'tests_per_case', 'stringency_index',\n",
    "                          'population_density', 'median_age', 'aged_65_older', 'aged_70_older', \n",
    "                          'gdp_per_capita', 'extreme_poverty', 'hospital_beds_per_thousand', 'life_expectancy',\n",
    "                          'human_development_index']]"
   ]
  },
  {
   "cell_type": "code",
   "execution_count": 20,
   "metadata": {},
   "outputs": [
    {
     "data": {
      "text/plain": [
       "'new_tests_smoothed_per_thousand'"
      ]
     },
     "execution_count": 20,
     "metadata": {},
     "output_type": "execute_result"
    }
   ],
   "source": [
    "'new_tests_smoothed_per_thousand'"
   ]
  },
  {
   "cell_type": "markdown",
   "metadata": {},
   "source": [
    "#### 2.3.2 Clustering and PCA"
   ]
  },
  {
   "cell_type": "code",
   "execution_count": 21,
   "metadata": {},
   "outputs": [],
   "source": [
    "from sklearn.decomposition import PCA # for PCA calculation"
   ]
  },
  {
   "cell_type": "code",
   "execution_count": 22,
   "metadata": {},
   "outputs": [],
   "source": [
    "pca = PCA()\n",
    "X_pca = pca.fit(pca_data)"
   ]
  },
  {
   "cell_type": "code",
   "execution_count": 23,
   "metadata": {},
   "outputs": [
    {
     "data": {
      "text/plain": [
       "Text(0, 0.5, 'cumulative explained variance')"
      ]
     },
     "execution_count": 23,
     "metadata": {},
     "output_type": "execute_result"
    },
    {
     "data": {
      "image/png": "[encoded data removed]",
      "text/plain": [
       "<Figure size 432x288 with 1 Axes>"
      ]
     },
     "metadata": {
      "needs_background": "light"
     },
     "output_type": "display_data"
    }
   ],
   "source": [
    "plt.plot(np.cumsum(pca.explained_variance_ratio_))\n",
    "plt.xlabel('number of components')\n",
    "plt.ylabel('cumulative explained variance')"
   ]
  },
  {
   "cell_type": "code",
   "execution_count": 24,
   "metadata": {},
   "outputs": [],
   "source": [
    "num_components = 3\n",
    "pca = PCA(num_components)  \n",
    "X_pca = pca.fit_transform(pca_data) # fit and reduce dimension"
   ]
  },
  {
   "cell_type": "code",
   "execution_count": 25,
   "metadata": {},
   "outputs": [
    {
     "data": {
      "text/html": [
       "<div>\n",
       "<style scoped>\n",
       "    .dataframe tbody tr th:only-of-type {\n",
       "        vertical-align: middle;\n",
       "    }\n",
       "\n",
       "    .dataframe tbody tr th {\n",
       "        vertical-align: top;\n",
       "    }\n",
       "\n",
       "    .dataframe thead th {\n",
       "        text-align: right;\n",
       "    }\n",
       "</style>\n",
       "<table border=\"1\" class=\"dataframe\">\n",
       "  <thead>\n",
       "    <tr style=\"text-align: right;\">\n",
       "      <th></th>\n",
       "      <th>new_cases_smoothed</th>\n",
       "      <th>new_deaths_smoothed</th>\n",
       "      <th>total_cases_per_million</th>\n",
       "      <th>new_cases_smoothed_per_million</th>\n",
       "      <th>new_deaths_smoothed_per_million</th>\n",
       "      <th>reproduction_rate</th>\n",
       "      <th>icu_patients_per_million</th>\n",
       "      <th>hosp_patients_per_million</th>\n",
       "      <th>weekly_icu_admissions_per_million</th>\n",
       "      <th>weekly_hosp_admissions_per_million</th>\n",
       "      <th>...</th>\n",
       "      <th>stringency_index</th>\n",
       "      <th>population_density</th>\n",
       "      <th>median_age</th>\n",
       "      <th>aged_65_older</th>\n",
       "      <th>aged_70_older</th>\n",
       "      <th>gdp_per_capita</th>\n",
       "      <th>extreme_poverty</th>\n",
       "      <th>hospital_beds_per_thousand</th>\n",
       "      <th>life_expectancy</th>\n",
       "      <th>human_development_index</th>\n",
       "    </tr>\n",
       "  </thead>\n",
       "  <tbody>\n",
       "    <tr>\n",
       "      <th>0</th>\n",
       "      <td>0.005144</td>\n",
       "      <td>0.000304</td>\n",
       "      <td>0.170266</td>\n",
       "      <td>0.002384</td>\n",
       "      <td>0.000033</td>\n",
       "      <td>0.000002</td>\n",
       "      <td>0.000254</td>\n",
       "      <td>0.001633</td>\n",
       "      <td>0.000036</td>\n",
       "      <td>0.000072</td>\n",
       "      <td>...</td>\n",
       "      <td>-0.000190</td>\n",
       "      <td>-0.000078</td>\n",
       "      <td>3.222747e-04</td>\n",
       "      <td>0.000230</td>\n",
       "      <td>0.000159</td>\n",
       "      <td>0.985359</td>\n",
       "      <td>-0.000463</td>\n",
       "      <td>0.000052</td>\n",
       "      <td>0.000266</td>\n",
       "      <td>6.119271e-06</td>\n",
       "    </tr>\n",
       "    <tr>\n",
       "      <th>1</th>\n",
       "      <td>0.882257</td>\n",
       "      <td>0.010929</td>\n",
       "      <td>0.462813</td>\n",
       "      <td>0.007236</td>\n",
       "      <td>0.000096</td>\n",
       "      <td>-0.000005</td>\n",
       "      <td>0.000321</td>\n",
       "      <td>0.002324</td>\n",
       "      <td>0.000090</td>\n",
       "      <td>0.000214</td>\n",
       "      <td>...</td>\n",
       "      <td>0.000231</td>\n",
       "      <td>0.001353</td>\n",
       "      <td>-5.909145e-07</td>\n",
       "      <td>-0.000021</td>\n",
       "      <td>-0.000015</td>\n",
       "      <td>-0.084630</td>\n",
       "      <td>-0.000047</td>\n",
       "      <td>-0.000014</td>\n",
       "      <td>0.000007</td>\n",
       "      <td>1.022674e-07</td>\n",
       "    </tr>\n",
       "    <tr>\n",
       "      <th>2</th>\n",
       "      <td>0.470567</td>\n",
       "      <td>0.005112</td>\n",
       "      <td>-0.869711</td>\n",
       "      <td>-0.008408</td>\n",
       "      <td>-0.000157</td>\n",
       "      <td>0.000012</td>\n",
       "      <td>-0.000397</td>\n",
       "      <td>-0.002898</td>\n",
       "      <td>-0.000228</td>\n",
       "      <td>-0.000350</td>\n",
       "      <td>...</td>\n",
       "      <td>-0.000180</td>\n",
       "      <td>0.001622</td>\n",
       "      <td>7.515788e-05</td>\n",
       "      <td>0.000039</td>\n",
       "      <td>0.000024</td>\n",
       "      <td>0.147909</td>\n",
       "      <td>0.000098</td>\n",
       "      <td>0.000004</td>\n",
       "      <td>-0.000042</td>\n",
       "      <td>-9.545903e-08</td>\n",
       "    </tr>\n",
       "  </tbody>\n",
       "</table>\n",
       "<p>3 rows × 23 columns</p>\n",
       "</div>"
      ],
      "text/plain": [
       "   new_cases_smoothed  new_deaths_smoothed  total_cases_per_million  \\\n",
       "0            0.005144             0.000304                 0.170266   \n",
       "1            0.882257             0.010929                 0.462813   \n",
       "2            0.470567             0.005112                -0.869711   \n",
       "\n",
       "   new_cases_smoothed_per_million  new_deaths_smoothed_per_million  \\\n",
       "0                        0.002384                         0.000033   \n",
       "1                        0.007236                         0.000096   \n",
       "2                       -0.008408                        -0.000157   \n",
       "\n",
       "   reproduction_rate  icu_patients_per_million  hosp_patients_per_million  \\\n",
       "0           0.000002                  0.000254                   0.001633   \n",
       "1          -0.000005                  0.000321                   0.002324   \n",
       "2           0.000012                 -0.000397                  -0.002898   \n",
       "\n",
       "   weekly_icu_admissions_per_million  weekly_hosp_admissions_per_million  ...  \\\n",
       "0                           0.000036                            0.000072  ...   \n",
       "1                           0.000090                            0.000214  ...   \n",
       "2                          -0.000228                           -0.000350  ...   \n",
       "\n",
       "   stringency_index  population_density    median_age  aged_65_older  \\\n",
       "0         -0.000190           -0.000078  3.222747e-04       0.000230   \n",
       "1          0.000231            0.001353 -5.909145e-07      -0.000021   \n",
       "2         -0.000180            0.001622  7.515788e-05       0.000039   \n",
       "\n",
       "   aged_70_older  gdp_per_capita  extreme_poverty  hospital_beds_per_thousand  \\\n",
       "0       0.000159        0.985359        -0.000463                    0.000052   \n",
       "1      -0.000015       -0.084630        -0.000047                   -0.000014   \n",
       "2       0.000024        0.147909         0.000098                    0.000004   \n",
       "\n",
       "   life_expectancy  human_development_index  \n",
       "0         0.000266             6.119271e-06  \n",
       "1         0.000007             1.022674e-07  \n",
       "2        -0.000042            -9.545903e-08  \n",
       "\n",
       "[3 rows x 23 columns]"
      ]
     },
     "execution_count": 25,
     "metadata": {},
     "output_type": "execute_result"
    }
   ],
   "source": [
    "pd.DataFrame(pca.components_, columns = pca_data.columns)"
   ]
  },
  {
   "cell_type": "code",
   "execution_count": 26,
   "metadata": {},
   "outputs": [
    {
     "name": "stdout",
     "output_type": "stream",
     "text": [
      "3\n"
     ]
    }
   ],
   "source": [
    "pca = PCA(n_components = 0.99)\n",
    "X_pca = pca.fit_transform(pca_data) # this will fit and reduce dimensions\n",
    "print(pca.n_components_)"
   ]
  },
  {
   "cell_type": "code",
   "execution_count": 27,
   "metadata": {},
   "outputs": [],
   "source": [
    "n_pcs= pca.n_components_ # get number of component# get the index of the most important feature on EACH component\n",
    "most_important = [np.abs(pca.components_[i]).argmax() for i in range(n_pcs)]\n",
    "initial_feature_names = pca_data.columns\n",
    "# get the most important feature names\n",
    "most_important_names = [initial_feature_names[most_important[i]] for i in range(n_pcs)]"
   ]
  },
  {
   "cell_type": "code",
   "execution_count": 28,
   "metadata": {},
   "outputs": [
    {
     "data": {
      "text/plain": [
       "['gdp_per_capita', 'new_cases_smoothed', 'total_cases_per_million']"
      ]
     },
     "execution_count": 28,
     "metadata": {},
     "output_type": "execute_result"
    }
   ],
   "source": [
    "most_important_names"
   ]
  },
  {
   "cell_type": "code",
   "execution_count": null,
   "metadata": {},
   "outputs": [],
   "source": []
  },
  {
   "cell_type": "code",
   "execution_count": null,
   "metadata": {},
   "outputs": [],
   "source": []
  },
  {
   "cell_type": "code",
   "execution_count": 29,
   "metadata": {},
   "outputs": [
    {
     "name": "stdout",
     "output_type": "stream",
     "text": [
      "new_tests_smoothed_per_thousand\n"
     ]
    }
   ],
   "source": [
    "from sklearn.cluster import KMeans\n",
    "\n",
    "print('new_tests_smoothed_per_thousand')"
   ]
  },
  {
   "cell_type": "code",
   "execution_count": 30,
   "metadata": {},
   "outputs": [],
   "source": [
    "kmean_data = screened_data[['new_cases_smoothed', 'new_deaths_smoothed', 'total_cases_per_million',\n",
    "                          'new_cases_smoothed_per_million', 'new_deaths_smoothed_per_million', 'reproduction_rate', \n",
    "                          'icu_patients_per_million', 'hosp_patients_per_million', 'weekly_icu_admissions_per_million',\n",
    "                          'weekly_hosp_admissions_per_million', 'total_tests_per_thousand', \n",
    "                          'positive_rate', 'tests_per_case', 'stringency_index',\n",
    "                          'population_density', 'median_age', 'aged_65_older', 'aged_70_older', \n",
    "                          'gdp_per_capita', 'extreme_poverty', 'hospital_beds_per_thousand', 'life_expectancy',\n",
    "                          'human_development_index']]"
   ]
  },
  {
   "cell_type": "code",
   "execution_count": 31,
   "metadata": {},
   "outputs": [
    {
     "data": {
      "text/plain": [
       "KMeans(n_clusters=5)"
      ]
     },
     "execution_count": 31,
     "metadata": {},
     "output_type": "execute_result"
    }
   ],
   "source": [
    "kmeans = KMeans(n_clusters = 5)\n",
    "kmeans.fit(kmean_data)"
   ]
  },
  {
   "cell_type": "code",
   "execution_count": 32,
   "metadata": {
    "scrolled": true
   },
   "outputs": [
    {
     "data": {
      "text/plain": [
       "array([0, 0, 0, ..., 1, 1, 1])"
      ]
     },
     "execution_count": 32,
     "metadata": {},
     "output_type": "execute_result"
    }
   ],
   "source": [
    "kmeans.labels_"
   ]
  },
  {
   "cell_type": "code",
   "execution_count": 33,
   "metadata": {},
   "outputs": [
    {
     "data": {
      "text/html": [
       "<div>\n",
       "<style scoped>\n",
       "    .dataframe tbody tr th:only-of-type {\n",
       "        vertical-align: middle;\n",
       "    }\n",
       "\n",
       "    .dataframe tbody tr th {\n",
       "        vertical-align: top;\n",
       "    }\n",
       "\n",
       "    .dataframe thead th {\n",
       "        text-align: right;\n",
       "    }\n",
       "</style>\n",
       "<table border=\"1\" class=\"dataframe\">\n",
       "  <thead>\n",
       "    <tr style=\"text-align: right;\">\n",
       "      <th>new_tests_smoothed_per_thousand</th>\n",
       "      <th>0.000</th>\n",
       "      <th>0.001</th>\n",
       "      <th>0.002</th>\n",
       "      <th>0.003</th>\n",
       "      <th>0.004</th>\n",
       "      <th>0.005</th>\n",
       "      <th>0.006</th>\n",
       "      <th>0.007</th>\n",
       "      <th>0.008</th>\n",
       "      <th>0.009</th>\n",
       "      <th>...</th>\n",
       "      <th>18.034</th>\n",
       "      <th>18.132</th>\n",
       "      <th>18.202</th>\n",
       "      <th>18.259</th>\n",
       "      <th>18.357</th>\n",
       "      <th>18.371</th>\n",
       "      <th>18.627</th>\n",
       "      <th>18.673</th>\n",
       "      <th>18.710</th>\n",
       "      <th>19.287</th>\n",
       "    </tr>\n",
       "    <tr>\n",
       "      <th>clusters</th>\n",
       "      <th></th>\n",
       "      <th></th>\n",
       "      <th></th>\n",
       "      <th></th>\n",
       "      <th></th>\n",
       "      <th></th>\n",
       "      <th></th>\n",
       "      <th></th>\n",
       "      <th></th>\n",
       "      <th></th>\n",
       "      <th></th>\n",
       "      <th></th>\n",
       "      <th></th>\n",
       "      <th></th>\n",
       "      <th></th>\n",
       "      <th></th>\n",
       "      <th></th>\n",
       "      <th></th>\n",
       "      <th></th>\n",
       "      <th></th>\n",
       "      <th></th>\n",
       "    </tr>\n",
       "  </thead>\n",
       "  <tbody>\n",
       "    <tr>\n",
       "      <th>0</th>\n",
       "      <td>2</td>\n",
       "      <td>0</td>\n",
       "      <td>0</td>\n",
       "      <td>0</td>\n",
       "      <td>0</td>\n",
       "      <td>0</td>\n",
       "      <td>0</td>\n",
       "      <td>2</td>\n",
       "      <td>1</td>\n",
       "      <td>2</td>\n",
       "      <td>...</td>\n",
       "      <td>0</td>\n",
       "      <td>0</td>\n",
       "      <td>0</td>\n",
       "      <td>0</td>\n",
       "      <td>0</td>\n",
       "      <td>0</td>\n",
       "      <td>0</td>\n",
       "      <td>0</td>\n",
       "      <td>0</td>\n",
       "      <td>0</td>\n",
       "    </tr>\n",
       "    <tr>\n",
       "      <th>1</th>\n",
       "      <td>30</td>\n",
       "      <td>75</td>\n",
       "      <td>63</td>\n",
       "      <td>40</td>\n",
       "      <td>44</td>\n",
       "      <td>53</td>\n",
       "      <td>43</td>\n",
       "      <td>39</td>\n",
       "      <td>19</td>\n",
       "      <td>26</td>\n",
       "      <td>...</td>\n",
       "      <td>0</td>\n",
       "      <td>0</td>\n",
       "      <td>0</td>\n",
       "      <td>0</td>\n",
       "      <td>0</td>\n",
       "      <td>0</td>\n",
       "      <td>0</td>\n",
       "      <td>0</td>\n",
       "      <td>0</td>\n",
       "      <td>0</td>\n",
       "    </tr>\n",
       "    <tr>\n",
       "      <th>2</th>\n",
       "      <td>0</td>\n",
       "      <td>0</td>\n",
       "      <td>0</td>\n",
       "      <td>1</td>\n",
       "      <td>0</td>\n",
       "      <td>2</td>\n",
       "      <td>1</td>\n",
       "      <td>0</td>\n",
       "      <td>1</td>\n",
       "      <td>0</td>\n",
       "      <td>...</td>\n",
       "      <td>1</td>\n",
       "      <td>1</td>\n",
       "      <td>1</td>\n",
       "      <td>1</td>\n",
       "      <td>1</td>\n",
       "      <td>1</td>\n",
       "      <td>1</td>\n",
       "      <td>1</td>\n",
       "      <td>1</td>\n",
       "      <td>1</td>\n",
       "    </tr>\n",
       "    <tr>\n",
       "      <th>3</th>\n",
       "      <td>0</td>\n",
       "      <td>0</td>\n",
       "      <td>0</td>\n",
       "      <td>0</td>\n",
       "      <td>0</td>\n",
       "      <td>0</td>\n",
       "      <td>0</td>\n",
       "      <td>0</td>\n",
       "      <td>0</td>\n",
       "      <td>0</td>\n",
       "      <td>...</td>\n",
       "      <td>0</td>\n",
       "      <td>0</td>\n",
       "      <td>0</td>\n",
       "      <td>0</td>\n",
       "      <td>0</td>\n",
       "      <td>0</td>\n",
       "      <td>0</td>\n",
       "      <td>0</td>\n",
       "      <td>0</td>\n",
       "      <td>0</td>\n",
       "    </tr>\n",
       "  </tbody>\n",
       "</table>\n",
       "<p>4 rows × 3599 columns</p>\n",
       "</div>"
      ],
      "text/plain": [
       "new_tests_smoothed_per_thousand  0.000   0.001   0.002   0.003   0.004   \\\n",
       "clusters                                                                  \n",
       "0                                     2       0       0       0       0   \n",
       "1                                    30      75      63      40      44   \n",
       "2                                     0       0       0       1       0   \n",
       "3                                     0       0       0       0       0   \n",
       "\n",
       "new_tests_smoothed_per_thousand  0.005   0.006   0.007   0.008   0.009   ...  \\\n",
       "clusters                                                                 ...   \n",
       "0                                     0       0       2       1       2  ...   \n",
       "1                                    53      43      39      19      26  ...   \n",
       "2                                     2       1       0       1       0  ...   \n",
       "3                                     0       0       0       0       0  ...   \n",
       "\n",
       "new_tests_smoothed_per_thousand  18.034  18.132  18.202  18.259  18.357  \\\n",
       "clusters                                                                  \n",
       "0                                     0       0       0       0       0   \n",
       "1                                     0       0       0       0       0   \n",
       "2                                     1       1       1       1       1   \n",
       "3                                     0       0       0       0       0   \n",
       "\n",
       "new_tests_smoothed_per_thousand  18.371  18.627  18.673  18.710  19.287  \n",
       "clusters                                                                 \n",
       "0                                     0       0       0       0       0  \n",
       "1                                     0       0       0       0       0  \n",
       "2                                     1       1       1       1       1  \n",
       "3                                     0       0       0       0       0  \n",
       "\n",
       "[4 rows x 3599 columns]"
      ]
     },
     "execution_count": 33,
     "metadata": {},
     "output_type": "execute_result"
    }
   ],
   "source": [
    "k = 4\n",
    "kmeans = KMeans(n_clusters = k, max_iter = 1000)\n",
    "kmeans.fit(kmean_data)\n",
    "labels = kmeans.labels_\n",
    "centroids = kmeans.cluster_centers_\n",
    "\n",
    "pd.crosstab(labels, screened_data['new_tests_smoothed_per_thousand'], rownames=['clusters'] )"
   ]
  },
  {
   "cell_type": "code",
   "execution_count": 35,
   "metadata": {},
   "outputs": [],
   "source": []
  },
  {
   "cell_type": "code",
   "execution_count": 38,
   "metadata": {},
   "outputs": [
    {
     "data": {
      "text/plain": [
       "TimeSeriesKMeans(max_iter=10, metric='dtw')"
      ]
     },
     "execution_count": 38,
     "metadata": {},
     "output_type": "execute_result"
    }
   ],
   "source": [
    "from tslearn.clustering import TimeSeriesKMeans\n",
    "model = TimeSeriesKMeans(n_clusters=3, metric=\"dtw\", max_iter=10)\n",
    "model.fit(kmean_data)"
   ]
  },
  {
   "cell_type": "code",
   "execution_count": 39,
   "metadata": {},
   "outputs": [
    {
     "data": {
      "text/html": [
       "<div>\n",
       "<style scoped>\n",
       "    .dataframe tbody tr th:only-of-type {\n",
       "        vertical-align: middle;\n",
       "    }\n",
       "\n",
       "    .dataframe tbody tr th {\n",
       "        vertical-align: top;\n",
       "    }\n",
       "\n",
       "    .dataframe thead th {\n",
       "        text-align: right;\n",
       "    }\n",
       "</style>\n",
       "<table border=\"1\" class=\"dataframe\">\n",
       "  <thead>\n",
       "    <tr style=\"text-align: right;\">\n",
       "      <th>new_tests_smoothed_per_thousand</th>\n",
       "      <th>0.000</th>\n",
       "      <th>0.001</th>\n",
       "      <th>0.002</th>\n",
       "      <th>0.003</th>\n",
       "      <th>0.004</th>\n",
       "      <th>0.005</th>\n",
       "      <th>0.006</th>\n",
       "      <th>0.007</th>\n",
       "      <th>0.008</th>\n",
       "      <th>0.009</th>\n",
       "      <th>...</th>\n",
       "      <th>18.034</th>\n",
       "      <th>18.132</th>\n",
       "      <th>18.202</th>\n",
       "      <th>18.259</th>\n",
       "      <th>18.357</th>\n",
       "      <th>18.371</th>\n",
       "      <th>18.627</th>\n",
       "      <th>18.673</th>\n",
       "      <th>18.710</th>\n",
       "      <th>19.287</th>\n",
       "    </tr>\n",
       "    <tr>\n",
       "      <th>clusters</th>\n",
       "      <th></th>\n",
       "      <th></th>\n",
       "      <th></th>\n",
       "      <th></th>\n",
       "      <th></th>\n",
       "      <th></th>\n",
       "      <th></th>\n",
       "      <th></th>\n",
       "      <th></th>\n",
       "      <th></th>\n",
       "      <th></th>\n",
       "      <th></th>\n",
       "      <th></th>\n",
       "      <th></th>\n",
       "      <th></th>\n",
       "      <th></th>\n",
       "      <th></th>\n",
       "      <th></th>\n",
       "      <th></th>\n",
       "      <th></th>\n",
       "      <th></th>\n",
       "    </tr>\n",
       "  </thead>\n",
       "  <tbody>\n",
       "    <tr>\n",
       "      <th>0</th>\n",
       "      <td>30</td>\n",
       "      <td>75</td>\n",
       "      <td>63</td>\n",
       "      <td>40</td>\n",
       "      <td>44</td>\n",
       "      <td>53</td>\n",
       "      <td>43</td>\n",
       "      <td>39</td>\n",
       "      <td>19</td>\n",
       "      <td>26</td>\n",
       "      <td>...</td>\n",
       "      <td>0</td>\n",
       "      <td>0</td>\n",
       "      <td>0</td>\n",
       "      <td>0</td>\n",
       "      <td>0</td>\n",
       "      <td>0</td>\n",
       "      <td>0</td>\n",
       "      <td>0</td>\n",
       "      <td>0</td>\n",
       "      <td>0</td>\n",
       "    </tr>\n",
       "    <tr>\n",
       "      <th>1</th>\n",
       "      <td>2</td>\n",
       "      <td>0</td>\n",
       "      <td>0</td>\n",
       "      <td>1</td>\n",
       "      <td>0</td>\n",
       "      <td>2</td>\n",
       "      <td>1</td>\n",
       "      <td>0</td>\n",
       "      <td>1</td>\n",
       "      <td>0</td>\n",
       "      <td>...</td>\n",
       "      <td>1</td>\n",
       "      <td>1</td>\n",
       "      <td>1</td>\n",
       "      <td>1</td>\n",
       "      <td>1</td>\n",
       "      <td>1</td>\n",
       "      <td>1</td>\n",
       "      <td>1</td>\n",
       "      <td>1</td>\n",
       "      <td>1</td>\n",
       "    </tr>\n",
       "    <tr>\n",
       "      <th>2</th>\n",
       "      <td>0</td>\n",
       "      <td>0</td>\n",
       "      <td>0</td>\n",
       "      <td>0</td>\n",
       "      <td>0</td>\n",
       "      <td>0</td>\n",
       "      <td>0</td>\n",
       "      <td>2</td>\n",
       "      <td>1</td>\n",
       "      <td>2</td>\n",
       "      <td>...</td>\n",
       "      <td>0</td>\n",
       "      <td>0</td>\n",
       "      <td>0</td>\n",
       "      <td>0</td>\n",
       "      <td>0</td>\n",
       "      <td>0</td>\n",
       "      <td>0</td>\n",
       "      <td>0</td>\n",
       "      <td>0</td>\n",
       "      <td>0</td>\n",
       "    </tr>\n",
       "  </tbody>\n",
       "</table>\n",
       "<p>3 rows × 3599 columns</p>\n",
       "</div>"
      ],
      "text/plain": [
       "new_tests_smoothed_per_thousand  0.000   0.001   0.002   0.003   0.004   \\\n",
       "clusters                                                                  \n",
       "0                                    30      75      63      40      44   \n",
       "1                                     2       0       0       1       0   \n",
       "2                                     0       0       0       0       0   \n",
       "\n",
       "new_tests_smoothed_per_thousand  0.005   0.006   0.007   0.008   0.009   ...  \\\n",
       "clusters                                                                 ...   \n",
       "0                                    53      43      39      19      26  ...   \n",
       "1                                     2       1       0       1       0  ...   \n",
       "2                                     0       0       2       1       2  ...   \n",
       "\n",
       "new_tests_smoothed_per_thousand  18.034  18.132  18.202  18.259  18.357  \\\n",
       "clusters                                                                  \n",
       "0                                     0       0       0       0       0   \n",
       "1                                     1       1       1       1       1   \n",
       "2                                     0       0       0       0       0   \n",
       "\n",
       "new_tests_smoothed_per_thousand  18.371  18.627  18.673  18.710  19.287  \n",
       "clusters                                                                 \n",
       "0                                     0       0       0       0       0  \n",
       "1                                     1       1       1       1       1  \n",
       "2                                     0       0       0       0       0  \n",
       "\n",
       "[3 rows x 3599 columns]"
      ]
     },
     "execution_count": 39,
     "metadata": {},
     "output_type": "execute_result"
    }
   ],
   "source": [
    "labels = model.labels_\n",
    "pd.crosstab(labels, screened_data['new_tests_smoothed_per_thousand'], rownames=['clusters'] )"
   ]
  },
  {
   "cell_type": "code",
   "execution_count": null,
   "metadata": {},
   "outputs": [],
   "source": []
  },
  {
   "cell_type": "markdown",
   "metadata": {},
   "source": [
    "### 2.4 Model training"
   ]
  },
  {
   "cell_type": "markdown",
   "metadata": {},
   "source": [
    "#### 2.4.1 Dataset Preparation"
   ]
  },
  {
   "cell_type": "code",
   "execution_count": null,
   "metadata": {},
   "outputs": [],
   "source": [
    "model_data = screened_data[['total_cases', 'new_cases_smoothed', 'total_deaths', 'new_deaths_smoothed',\n",
    "                            'total_cases_per_million', 'new_cases_smoothed_per_million', 'total_deaths_per_million', \n",
    "                            'new_deaths_smoothed_per_million', 'reproduction_rate', 'icu_patients', \n",
    "                            'icu_patients_per_million', 'hosp_patients', 'hosp_patients_per_million', \n",
    "                            'weekly_icu_admissions', 'weekly_icu_admissions_per_million', 'weekly_hosp_admissions',\n",
    "                            'weekly_hosp_admissions_per_million', 'positive_rate', 'tests_per_case',  \n",
    "                            'stringency_index', 'population', 'population_density', 'median_age', 'aged_65_older',\n",
    "                            'aged_70_older', 'gdp_per_capita', 'extreme_poverty', 'life_expectancy', 'human_development_index']]\n",
    "                            \n"
   ]
  },
  {
   "cell_type": "code",
   "execution_count": null,
   "metadata": {},
   "outputs": [],
   "source": [
    "#'total_tests', 'new_tests', 'total_tests_per_thousand', 'new_tests_per_thousand', 'new_tests_smoothed', 'new_tests_smoothed_per_thousand',      \n",
    "\n",
    "\n",
    "#stringency_index, gdp_per_capita, extreme_poverty, population_density, tests_per_case -> retirar linhas nulas aquando treino modelos"
   ]
  },
  {
   "cell_type": "code",
   "execution_count": null,
   "metadata": {},
   "outputs": [],
   "source": []
  },
  {
   "cell_type": "markdown",
   "metadata": {},
   "source": [
    "## References"
   ]
  },
  {
   "cell_type": "markdown",
   "metadata": {},
   "source": [
    "    [1]  Hasell, J., Mathieu, E., Beltekian, D. et al. A cross-country database of COVID-19 testing. Sci Data 7, 345 (2020)\n",
    "    [2]  Hannah Ritchie (2019) - \"Age Structure\". Published online at OurWorldInData.org. Retrieved from: 'https://ourworldindata.org/age-structure' [Online Resource]\n",
    "    [3] UN. (2017). Changing population age structures and sustainable development. Department of Economic and Social Affairs, ST/ESA/SER(E/CN.9/2017/2), 33."
   ]
  }
 ],
 "metadata": {
  "kernelspec": {
   "display_name": "Python 3",
   "language": "python",
   "name": "python3"
  },
  "language_info": {
   "codemirror_mode": {
    "name": "ipython",
    "version": 3
   },
   "file_extension": ".py",
   "mimetype": "text/x-python",
   "name": "python",
   "nbconvert_exporter": "python",
   "pygments_lexer": "ipython3",
   "version": "3.7.6"
  }
 },
 "nbformat": 4,
 "nbformat_minor": 4
}
